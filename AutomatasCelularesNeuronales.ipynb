{
 "cells": [
  {
   "cell_type": "markdown",
   "id": "fa460750-91e4-42d8-a85a-7e6b18b5449c",
   "metadata": {},
   "source": [
    "# Automatas Celulares Neuronales"
   ]
  },
  {
   "cell_type": "markdown",
   "id": "ed1278e3-d023-4a5f-a362-49832cd674fd",
   "metadata": {},
   "source": [
    "Este Jupyter Notebook presenta el comportamiento de diferentes automatas celulares neuronales. Cada kernel se encuentra en la carpeta *Kernels*, las funciones de activación necesarias se codifican en cada punto."
   ]
  },
  {
   "cell_type": "markdown",
   "id": "c0479b87-d58f-49bc-a885-e716bf9e4553",
   "metadata": {},
   "source": [
    "## Bibliotecas necesarias y configuración inicial"
   ]
  },
  {
   "cell_type": "code",
   "execution_count": 1,
   "id": "2130a3ed-356c-4d9e-984c-56691a6ff3e6",
   "metadata": {
    "tags": []
   },
   "outputs": [],
   "source": [
    "import cv2\n",
    "from IPython.display import Video, display\n",
    "import json\n",
    "from matplotlib import pyplot as plt\n",
    "from matplotlib import animation\n",
    "import numpy as np\n",
    "from scipy.signal import convolve2d\n",
    "from tqdm import tqdm\n",
    "from inspect import getsource"
   ]
  },
  {
   "cell_type": "code",
   "execution_count": 2,
   "id": "3cd4bbce-2c15-4bba-b8d2-84e0ea3da110",
   "metadata": {
    "tags": []
   },
   "outputs": [],
   "source": [
    "plt.rc('axes', axisbelow=True)\n",
    "plt.rcParams[\"animation.html\"] = \"jshtml\"\n",
    "plt.rcParams['figure.dpi'] = 150  \n",
    "plt.rcParams['animation.embed_limit'] = 4**128\n",
    "plt.ioff();"
   ]
  },
  {
   "cell_type": "markdown",
   "id": "2ff7ba0f-b5d6-4f6a-8b84-a6fbb62759f9",
   "metadata": {},
   "source": [
    "## Funciones a utilizar"
   ]
  },
  {
   "cell_type": "code",
   "execution_count": 3,
   "id": "aa0fa2c7-20e7-4934-9d32-70c86b69a8e9",
   "metadata": {
    "tags": []
   },
   "outputs": [],
   "source": [
    "def create_animation(frame, kernel, activation_function, N, persistent=False):\n",
    "    # Create an array to store all the frames\n",
    "    frames = np.empty((N,*frame.shape))\n",
    "    # Create the next n frames\n",
    "    for i in tqdm(range(N), desc='Applying convolutions'):\n",
    "        frames[i] = frame\n",
    "        # Convolve an apply the activation function to a frame\n",
    "        frame = convolve2d(frame, kernel, mode='same', boundary='wrap')\n",
    "        frame = activation_function(frame)\n",
    "        # Keep values of the frame n-1\n",
    "        if persistent and i > 0:\n",
    "            frame = frame + frames[i-1]\n",
    "        # Clip the values in an array.\n",
    "        frame[frame<0] = 0\n",
    "        frame[frame>1] = 1\n",
    "    return frames\n",
    "\n",
    "def export_video_cv2(frames, name='output.mp4', fps = 25, skip_frames=False, skip='even'):\n",
    "    # Get the size of every dimension\n",
    "    duration, height, weight = frames.shape\n",
    "    if skip_frames:\n",
    "        k = 0 if skip == 'even' else 1 if 'odd' else skip\n",
    "    # Create writer\n",
    "    out = cv2.VideoWriter(name, cv2.VideoWriter_fourcc(*'mp4v'), fps, (weight, height), False)\n",
    "    # Create video\n",
    "    for i in tqdm(range(duration), desc='Creating video'):\n",
    "        if skip_frames:\n",
    "            if i%2 != k:\n",
    "                data = (frames[i]*255).astype('uint8')\n",
    "                out.write(data)\n",
    "        else:\n",
    "            data = (frames[i]*255).astype('uint8')\n",
    "            out.write(data)\n",
    "    out.release()\n",
    "    \n",
    "def export_video_mat(frames, name='output.mp4', figsize=(16,9), fps=25, \n",
    "                     interval=20, skip_frames=False, skip='even', cmap='magma'):\n",
    "    \n",
    "    N = frames.shape[0]\n",
    "    \n",
    "    fig, ax = plt.subplots(figsize=figsize)\n",
    "    fig.subplots_adjust(left=0, bottom=0, right=1, top=1, wspace=None, hspace=None)\n",
    "    ax.set_xticklabels([])\n",
    "    ax.set_yticklabels([])\n",
    "    im = ax.imshow(frames[0], cmap=cmap)\n",
    "    \n",
    "    if skip_frames:\n",
    "        k = 0 if skip == 'even' else 1 if 'odd' else skip\n",
    "        \n",
    "    def animate(i):\n",
    "        if skip_frames: \n",
    "            if i%2 != k:\n",
    "                im.set_array(frames[i])\n",
    "        else:\n",
    "            im.set_array(frames[i])\n",
    "    plt.close()\n",
    "\n",
    "    anim = animation.FuncAnimation(fig, animate, frames=N, interval=interval)\n",
    "    writervideo = animation.FFMpegWriter(fps=fps) \n",
    "    anim.save(name, writer=writervideo)\n",
    "    \n",
    "\n",
    "def get_kernel(path):\n",
    "    with open(path, 'r') as file:\n",
    "        data = json.load(file)\n",
    "        kernel = np.zeros(9)\n",
    "        for key,value in data['filter'].items():\n",
    "            kernel[int(key)] = value\n",
    "\n",
    "    return kernel.reshape(3,3)"
   ]
  },
  {
   "cell_type": "markdown",
   "id": "92406a90-bdc5-4b81-b1ef-d08588342399",
   "metadata": {},
   "source": [
    "## Resultados"
   ]
  },
  {
   "cell_type": "markdown",
   "id": "5c143952-e665-429d-ab9a-f9e200753b63",
   "metadata": {},
   "source": [
    "### Juego de la vida"
   ]
  },
  {
   "cell_type": "code",
   "execution_count": 4,
   "id": "ba74d825-ec1b-4b49-a1b4-016d6c75e8b2",
   "metadata": {
    "tags": []
   },
   "outputs": [
    {
     "name": "stderr",
     "output_type": "stream",
     "text": [
      "Applying convolutions: 100%|███████████████| 5000/5000 [00:28<00:00, 176.95it/s]\n"
     ]
    }
   ],
   "source": [
    "# Size\n",
    "weight = 640\n",
    "height = 360\n",
    "# Number of iterations\n",
    "N = 5000\n",
    "# Initial conditions\n",
    "init_frame = np.zeros((height, weight))\n",
    "init_frame = np.random.randint(0,2, size=(height,weight))\n",
    "# Select kernel\n",
    "kernel = get_kernel('Kernels/game_of_life.json')\n",
    "# Select activation function\n",
    "activation_function = lambda x: np.where((x == 3)|(x == 11)|(x == 12), 1, 0)\n",
    "# Compute the N iterations\n",
    "frames = create_animation(init_frame, kernel, activation_function, N, persistent=False)\n",
    "#export_video_cv2(frames, name='Videos/game_of_life.mp4', fps=60, skip_frames=True, skip='odd')\n",
    "export_video_mat(frames, name='Videos/game_of_life.mp4', fps=60, cmap='binary', skip_frames=True, skip='odd')\n",
    "del frames"
   ]
  },
  {
   "cell_type": "code",
   "execution_count": 5,
   "id": "792d5703-ca73-489a-a975-bc610a2f6433",
   "metadata": {
    "tags": []
   },
   "outputs": [
    {
     "name": "stdout",
     "output_type": "stream",
     "text": [
      "\n",
      "kernel = \n",
      "[[1. 1. 1.]\n",
      " [1. 9. 1.]\n",
      " [1. 1. 1.]]\n",
      "\n",
      "\n",
      "activation_function = lambda x: np.where((x == 3)|(x == 11)|(x == 12), 1, 0)\n",
      "\n",
      "\n"
     ]
    }
   ],
   "source": [
    "print(f'\\nkernel = \\n{kernel}\\n')\n",
    "print(f'\\n{getsource(activation_function)}\\n')\n",
    "#Video('Videos/game_of_life.mp4', html_attributes='loop autoplay', height=500)"
   ]
  },
  {
   "cell_type": "markdown",
   "id": "b3969c20-0c12-43ea-9555-f905fece8f3f",
   "metadata": {},
   "source": [
    "[Juego de la vida (video)](https://youtu.be/x-yBPAsFn8g?t=0&si=1071c77Hb4UNQNEg)"
   ]
  },
  {
   "cell_type": "markdown",
   "id": "0ef2cc5c-4240-48f4-9f4a-e6bc7e62cd86",
   "metadata": {
    "tags": []
   },
   "source": [
    "### Regla 30"
   ]
  },
  {
   "cell_type": "code",
   "execution_count": 6,
   "id": "3b4c23ec-3e5b-4343-ba93-db0ed20b097a",
   "metadata": {
    "tags": []
   },
   "outputs": [
    {
     "name": "stderr",
     "output_type": "stream",
     "text": [
      "Applying convolutions: 100%|█████████████████| 350/350 [00:02<00:00, 162.59it/s]\n"
     ]
    }
   ],
   "source": [
    "# Size\n",
    "weight = 640\n",
    "height = 360\n",
    "# Number of iterations\n",
    "N = 350\n",
    "# Initial conditions\n",
    "init_frame = np.zeros((height, weight))\n",
    "init_frame[0,weight//2] = 1\n",
    "# Select kernel\n",
    "kernel = get_kernel('Kernels/rule30.json')\n",
    "# Select activation function\n",
    "activation_function = lambda x: np.where((x == 1)|(x == 2)|(x == 3)|(x == 4), 1, 0)\n",
    "# Compute the N iterations\n",
    "frames = create_animation(init_frame, kernel, activation_function, N, persistent=True)\n",
    "#export_video_cv2(frames, name='example.mp4', fps=60)\n",
    "export_video_mat(frames, name='Videos/rule30.mp4', fps=60, cmap='gray')"
   ]
  },
  {
   "cell_type": "code",
   "execution_count": 7,
   "id": "8a6b7011-23ec-415d-a55d-5564b717a9eb",
   "metadata": {
    "tags": []
   },
   "outputs": [
    {
     "name": "stdout",
     "output_type": "stream",
     "text": [
      "\n",
      "kernel = \n",
      "[1. 2. 4.]\n",
      "\n",
      "\n",
      "activation_function = lambda x: np.where((x == 1)|(x == 2)|(x == 3)|(x == 4), 1, 0)\n",
      "\n",
      "\n"
     ]
    }
   ],
   "source": [
    "print(f'\\nkernel = \\n{kernel[-1]}\\n')\n",
    "print(f'\\n{getsource(activation_function)}\\n')\n",
    "#Video('Videos/rule30.mp4', html_attributes='loop autoplay', height=500)"
   ]
  },
  {
   "cell_type": "markdown",
   "id": "f94a7450-e523-4435-8600-ebd89d102fe3",
   "metadata": {},
   "source": [
    "[Regla 30 (video)](https://youtu.be/x-yBPAsFn8g?t=15&si=N_Q8h7-Hb352bcVB)"
   ]
  },
  {
   "cell_type": "markdown",
   "id": "bd8a36f5-e0b3-47e9-a373-5508fb004f72",
   "metadata": {},
   "source": [
    "### Moho 1"
   ]
  },
  {
   "cell_type": "code",
   "execution_count": 8,
   "id": "b00304f3-c16a-4261-aeed-744d3ef52d30",
   "metadata": {
    "tags": []
   },
   "outputs": [
    {
     "name": "stderr",
     "output_type": "stream",
     "text": [
      "Applying convolutions: 100%|███████████████| 2000/2000 [00:12<00:00, 153.95it/s]\n"
     ]
    }
   ],
   "source": [
    "# Size\n",
    "weight = 640\n",
    "height = 360\n",
    "# Number of iterations\n",
    "N = 2000\n",
    "# Initial conditions\n",
    "init_frame = np.zeros((height, weight))\n",
    "init_frame[3*height//4,weight//3] = 1\n",
    "init_frame[height//4,2*weight//3] = 1\n",
    "init_frame[5*height//6,5*weight//6] = 1\n",
    "init_frame[5*height//6+1,5*weight//6] = 1\n",
    "init_frame[5*height//6,5*weight//6+1] = 1\n",
    "# Select kernel\n",
    "kernel = get_kernel('Kernels/moho1.json')\n",
    "# Select activation function\n",
    "activation_function = lambda x: np.sin(np.abs(x/2))\n",
    "# Compute the N iterations\n",
    "frames = create_animation(init_frame, kernel, activation_function, N, persistent=False)\n",
    "#export_video_cv2(frames, name='Videos/moho1.mp4', fps=60, skip_frames=True, skip='odd')\n",
    "export_video_mat(frames, name='Videos/moho1.mp4', fps=60, cmap='magma', skip_frames=True, skip='odd')\n",
    "del frames"
   ]
  },
  {
   "cell_type": "code",
   "execution_count": 9,
   "id": "5417612a-b29f-4228-b6c0-69aceb94864a",
   "metadata": {
    "tags": []
   },
   "outputs": [
    {
     "name": "stdout",
     "output_type": "stream",
     "text": [
      "\n",
      "kernel = \n",
      "[[-0.84899998  0.912      -0.84899998]\n",
      " [ 0.912       0.          0.912     ]\n",
      " [-0.84899998  0.912      -0.84899998]]\n",
      "\n",
      "\n",
      "activation_function = lambda x: np.sin(np.abs(x/2))\n",
      "\n",
      "\n"
     ]
    }
   ],
   "source": [
    "print(f'\\nkernel = \\n{kernel}\\n')\n",
    "print(f'\\n{getsource(activation_function)}\\n')\n",
    "#Video('Videos/moho1.mp4', html_attributes='loop autoplay', height=500)"
   ]
  },
  {
   "cell_type": "markdown",
   "id": "6e0e3720-2fcf-487c-b733-7efce3aa96a0",
   "metadata": {},
   "source": [
    "[Moho 1 (video)](https://youtu.be/x-yBPAsFn8g?t=20&si=QNrFRbTPXUKE1_NL)"
   ]
  },
  {
   "cell_type": "markdown",
   "id": "e29f00ce-b4b3-471e-a6a8-6a447adf14bd",
   "metadata": {},
   "source": [
    "### Moho 2"
   ]
  },
  {
   "cell_type": "code",
   "execution_count": 10,
   "id": "d19f40c5-4396-47eb-9d0c-d5e07a39e39f",
   "metadata": {
    "tags": []
   },
   "outputs": [
    {
     "name": "stderr",
     "output_type": "stream",
     "text": [
      "Applying convolutions: 100%|███████████████| 2500/2500 [00:16<00:00, 152.11it/s]\n",
      "Creating video: 100%|██████████████████████| 2500/2500 [00:04<00:00, 609.92it/s]\n"
     ]
    }
   ],
   "source": [
    "# Size\n",
    "weight = 640\n",
    "height = 360\n",
    "# Number of iterations\n",
    "N = 2500\n",
    "# Initial conditions\n",
    "init_frame = np.zeros((height, weight))\n",
    "init_frame[height//2,weight//2] = 1\n",
    "# Select kernel\n",
    "kernel = get_kernel('Kernels/moho2.json')\n",
    "# Select activation function\n",
    "activation_function = lambda x: np.sin(np.abs(x/2))\n",
    "# Compute the N iterations\n",
    "frames = create_animation(init_frame, kernel, activation_function, N, persistent=False)\n",
    "export_video_cv2(frames, name='Videos/moho2.mp4', fps=60, skip_frames=True, skip='odd')\n",
    "del frames"
   ]
  },
  {
   "cell_type": "code",
   "execution_count": 24,
   "id": "b59ba545-f4e7-4047-815f-638d63a1de1e",
   "metadata": {
    "tags": []
   },
   "outputs": [
    {
     "name": "stdout",
     "output_type": "stream",
     "text": [
      "\n",
      "kernel = \n",
      "[[-0.93900001  0.88       -0.93900001]\n",
      " [ 0.88        0.40000001  0.88      ]\n",
      " [-0.93900001  0.88       -0.93900001]]\n",
      "\n",
      "\n",
      "activation_function = lambda x: -1/(0.9*np.power(x, 2)+1)+1\n",
      "\n",
      "\n"
     ]
    }
   ],
   "source": [
    "print(f'\\nkernel = \\n{kernel}\\n')\n",
    "print(f'\\n{getsource(activation_function)}\\n')\n",
    "#Video('Videos/moho2.mp4', html_attributes='loop autoplay', height=500)"
   ]
  },
  {
   "cell_type": "markdown",
   "id": "368f464c-469f-4b56-a26a-8bb694724fac",
   "metadata": {},
   "source": [
    "[Moho 2 (video)](https://youtu.be/x-yBPAsFn8g?t=40&si=mrjD3eCzEok8iSbY)"
   ]
  },
  {
   "cell_type": "markdown",
   "id": "9f2610be-2b9a-44f5-82e6-b0350f85986f",
   "metadata": {
    "tags": []
   },
   "source": [
    "### Gusanos 1"
   ]
  },
  {
   "cell_type": "code",
   "execution_count": 12,
   "id": "6de77d62-53c4-4d31-afe7-86f004dbcc4e",
   "metadata": {
    "tags": []
   },
   "outputs": [
    {
     "name": "stderr",
     "output_type": "stream",
     "text": [
      "Applying convolutions: 100%|█████████████| 10000/10000 [01:14<00:00, 134.89it/s]\n",
      "Creating video: 100%|████████████████████| 10000/10000 [00:43<00:00, 230.52it/s]\n"
     ]
    }
   ],
   "source": [
    "# Size\n",
    "weight = 640\n",
    "height = 360\n",
    "# Number of iterations\n",
    "N = 10000\n",
    "# Initial conditions\n",
    "init_frame = np.zeros((height, weight))\n",
    "init_frame = np.random.uniform(0,1, size=(height,weight))\n",
    "# Select kernel\n",
    "kernel = get_kernel('Kernels/worms1.json')\n",
    "# Select activation function\n",
    "activation_function = lambda x: -1/(0.89*np.power(x, 2)+1)+1\n",
    "# Compute the N iterations\n",
    "frames = create_animation(init_frame, kernel, activation_function, N, persistent=False)\n",
    "export_video_cv2(frames, name='Videos/worms1.mp4', fps=60, skip_frames=True, skip='odd')\n",
    "del frames"
   ]
  },
  {
   "cell_type": "code",
   "execution_count": 13,
   "id": "aa1bd538-f629-460a-a3c3-0fddaa65da8d",
   "metadata": {
    "tags": []
   },
   "outputs": [
    {
     "name": "stdout",
     "output_type": "stream",
     "text": [
      "\n",
      "kernel = \n",
      "[[ 0.80000001 -0.85000002  0.80000001]\n",
      " [-0.85000002 -0.2        -0.85000002]\n",
      " [ 0.80000001 -0.85000002  0.80000001]]\n",
      "\n",
      "\n",
      "activation_function = lambda x: -1/(0.89*np.power(x, 2)+1)+1\n",
      "\n",
      "\n"
     ]
    }
   ],
   "source": [
    "print(f'\\nkernel = \\n{kernel}\\n')\n",
    "print(f'\\n{getsource(activation_function)}\\n')\n",
    "#Video('Videos/worms1.mp4', html_attributes='controls', height=500)"
   ]
  },
  {
   "cell_type": "markdown",
   "id": "5d1e4096-6d2f-4898-a383-0d0aab3b0afd",
   "metadata": {},
   "source": [
    "[Gusanos 1 (video)](https://youtu.be/x-yBPAsFn8g?t=59&si=C65Qd6ldE771uc-f)"
   ]
  },
  {
   "cell_type": "markdown",
   "id": "62dcae5d-09a8-4db0-9ff2-bf4cfbe36fc6",
   "metadata": {
    "tags": []
   },
   "source": [
    "### Gusanos 2"
   ]
  },
  {
   "cell_type": "code",
   "execution_count": 14,
   "id": "a4cb7336-48b7-4b47-a45d-636750c0f885",
   "metadata": {
    "tags": []
   },
   "outputs": [
    {
     "name": "stderr",
     "output_type": "stream",
     "text": [
      "Applying convolutions: 100%|███████████████| 5000/5000 [00:32<00:00, 152.41it/s]\n",
      "Creating video: 100%|██████████████████████| 5000/5000 [00:30<00:00, 163.66it/s]\n"
     ]
    }
   ],
   "source": [
    "# Size\n",
    "weight = 640\n",
    "height = 360\n",
    "# Number of iterations\n",
    "N = 5000\n",
    "# Initial conditions\n",
    "init_frame = np.zeros((height, weight))\n",
    "init_frame[height//2,weight//2] = 0.0005\n",
    "# Select kernel\n",
    "kernel = get_kernel('Kernels/worms2.json')\n",
    "# Select activation function\n",
    "activation_function = lambda x: np.sin(np.abs(x/2))\n",
    "# Compute the N iterations\n",
    "frames = create_animation(init_frame, kernel, activation_function, N, persistent=False)\n",
    "export_video_cv2(frames, name='Videos/worms2.mp4', fps=60, skip_frames=True, skip='odd')\n",
    "del frames"
   ]
  },
  {
   "cell_type": "code",
   "execution_count": 15,
   "id": "ce4d0e3c-accd-4900-aa36-9a1dc477c1fc",
   "metadata": {
    "tags": []
   },
   "outputs": [
    {
     "name": "stdout",
     "output_type": "stream",
     "text": [
      "\n",
      "kernel = \n",
      "[[-0.84899998  0.86299998 -0.84899998]\n",
      " [ 0.86299998  0.18799999  0.86299998]\n",
      " [-0.84899998  0.86299998 -0.84899998]]\n",
      "\n",
      "\n",
      "activation_function = lambda x: np.sin(np.abs(x/2))\n",
      "\n",
      "\n"
     ]
    }
   ],
   "source": [
    "print(f'\\nkernel = \\n{kernel}\\n')\n",
    "print(f'\\n{getsource(activation_function)}\\n')\n",
    "#Video('Videos/worms2.mp4', html_attributes='controls', height=500)"
   ]
  },
  {
   "cell_type": "markdown",
   "id": "b341ca8e-4f5b-4ae0-961b-dd1dbc69514e",
   "metadata": {},
   "source": [
    "[Gusanos 2 (video)](https://youtu.be/x-yBPAsFn8g?t=80&si=Z5MnKl1o4LnrGqXz)"
   ]
  },
  {
   "cell_type": "markdown",
   "id": "b5dac7ff-9067-4716-97c7-58a9ca362228",
   "metadata": {},
   "source": [
    "### Caminos"
   ]
  },
  {
   "cell_type": "code",
   "execution_count": 16,
   "id": "67e306bf-73ac-4dd1-b839-4a911ac6804d",
   "metadata": {
    "tags": []
   },
   "outputs": [
    {
     "name": "stderr",
     "output_type": "stream",
     "text": [
      "Applying convolutions: 100%|███████████████| 1000/1000 [00:09<00:00, 108.01it/s]\n",
      "Creating video: 100%|█████████████████████| 1000/1000 [00:00<00:00, 1521.76it/s]\n"
     ]
    }
   ],
   "source": [
    "# Size\n",
    "weight = 640\n",
    "height = 360\n",
    "# Number of iterations\n",
    "N = 1000\n",
    "# Initial conditions\n",
    "init_frame = np.zeros((height, weight))\n",
    "init_frame = np.random.uniform(0,1, size=(height,weight))\n",
    "# Select kernel\n",
    "kernel = get_kernel('Kernels/paths.json')\n",
    "# Select activation function\n",
    "gaussian = lambda x, b: 1/np.power(2,np.power(x-b, 2))\n",
    "activation_function = lambda x: gaussian(x, 3.5)\n",
    "# Compute the N iterations\n",
    "frames = create_animation(init_frame, kernel, activation_function, N, persistent=False)\n",
    "export_video_cv2(frames, name='Videos/paths.mp4', fps=60, skip_frames=True, skip='odd')\n",
    "del frames"
   ]
  },
  {
   "cell_type": "code",
   "execution_count": 17,
   "id": "2b051f65-d24e-4c99-8871-b5f0989dad3d",
   "metadata": {
    "tags": []
   },
   "outputs": [
    {
     "name": "stdout",
     "output_type": "stream",
     "text": [
      "\n",
      "kernel = \n",
      "[[0. 1. 0.]\n",
      " [1. 1. 1.]\n",
      " [0. 1. 0.]]\n",
      "\n",
      "\n",
      "activation_function = lambda x: gaussian(x, 3.5)\n",
      "\n",
      "\n",
      "\n",
      "gaussian = lambda x, b: 1/np.power(2,np.power(x-b, 2))\n",
      "\n",
      "\n"
     ]
    }
   ],
   "source": [
    "print(f'\\nkernel = \\n{kernel}\\n')\n",
    "print(f'\\n{getsource(activation_function)}\\n')\n",
    "print(f'\\n{getsource(gaussian)}\\n')\n",
    "#Video('Videos/paths.mp4', html_attributes='controls', height=500)"
   ]
  },
  {
   "cell_type": "markdown",
   "id": "47615abc-5874-4e11-89ae-8aa8e693ac3f",
   "metadata": {},
   "source": [
    "[Caminos (video)](https://youtu.be/x-yBPAsFn8g?t=100&si=_30Hd67SEP2wlqMU)"
   ]
  },
  {
   "cell_type": "markdown",
   "id": "fbdb5816-2ada-4d22-a398-88c446a53774",
   "metadata": {},
   "source": [
    "### Olas"
   ]
  },
  {
   "cell_type": "code",
   "execution_count": 18,
   "id": "578b88ba-dcf5-4721-bcb1-400fee73768d",
   "metadata": {
    "tags": []
   },
   "outputs": [
    {
     "name": "stderr",
     "output_type": "stream",
     "text": [
      "Applying convolutions: 100%|█████████████| 10000/10000 [01:00<00:00, 166.65it/s]\n",
      "Creating video: 100%|████████████████████| 10000/10000 [01:15<00:00, 133.28it/s]\n"
     ]
    }
   ],
   "source": [
    "# Size\n",
    "weight = 640\n",
    "height = 360\n",
    "# Number of iterations\n",
    "N = 10000\n",
    "# Initial conditions\n",
    "init_frame = np.zeros((height, weight))\n",
    "init_frame = np.random.uniform(0,1, size=(height,weight))\n",
    "# Select kernel\n",
    "kernel = get_kernel('Kernels/waves.json')\n",
    "# Select activation function\n",
    "activation_function = lambda x: np.abs(1.2*x)\n",
    "# Compute the N iterations\n",
    "frames = create_animation(init_frame, kernel, activation_function, N, persistent=False)\n",
    "export_video_cv2(frames, name='Videos/waves.mp4', fps=30, skip_frames=True, skip='odd')\n",
    "del frames"
   ]
  },
  {
   "cell_type": "code",
   "execution_count": 19,
   "id": "2962ac25-2ca3-4568-be9e-56b394a9a462",
   "metadata": {
    "tags": []
   },
   "outputs": [
    {
     "name": "stdout",
     "output_type": "stream",
     "text": [
      "\n",
      "kernel = \n",
      "[[ 0.56459999 -0.7159      0.56459999]\n",
      " [-0.7159      0.62690002 -0.7159    ]\n",
      " [ 0.56459999 -0.7159      0.56459999]]\n",
      "\n",
      "\n",
      "activation_function = lambda x: np.abs(1.2*x)\n",
      "\n",
      "\n"
     ]
    }
   ],
   "source": [
    "print(f'\\nkernel = \\n{kernel}\\n')\n",
    "print(f'\\n{getsource(activation_function)}\\n')\n",
    "#Video('Videos/waves.mp4', html_attributes='controls', height=500)"
   ]
  },
  {
   "cell_type": "markdown",
   "id": "ec389003-9b6b-4b72-8be8-723bd0e994d5",
   "metadata": {},
   "source": [
    "[Olas (video)](https://youtu.be/x-yBPAsFn8g?t=121&si=kfN2SsDkMNv-exvB)"
   ]
  },
  {
   "cell_type": "markdown",
   "id": "6ce3471f-fe3a-4e87-905f-cbc1f9bcbc18",
   "metadata": {},
   "source": [
    "### Bacteria"
   ]
  },
  {
   "cell_type": "code",
   "execution_count": 20,
   "id": "a9b1b8a7-d523-4663-ac9e-613a84b5a707",
   "metadata": {
    "tags": []
   },
   "outputs": [
    {
     "name": "stderr",
     "output_type": "stream",
     "text": [
      "Applying convolutions: 100%|█████████████| 10000/10000 [01:05<00:00, 153.50it/s]\n",
      "Creating video: 100%|████████████████████| 10000/10000 [01:08<00:00, 145.31it/s]\n"
     ]
    }
   ],
   "source": [
    "# Size\n",
    "weight = 640\n",
    "height = 360\n",
    "# Number of iterations\n",
    "N = 10000\n",
    "# Initial conditions\n",
    "init_frame = np.zeros((height, weight))\n",
    "init_frame[height//2,weight//2] = 0.2\n",
    "init_frame[height//2-1,weight//2-1] = 1\n",
    "# Select kernel\n",
    "kernel = get_kernel('Kernels/bacteria.json')\n",
    "# Select activation function\n",
    "activation_function = lambda x: np.sin(np.abs(x/2))\n",
    "# Compute the N iterations\n",
    "frames = create_animation(init_frame, kernel, activation_function, N, persistent=False)\n",
    "export_video_cv2(frames, name='Videos/bacteria.mp4', fps=60, skip_frames=True, skip='odd')\n",
    "#export_video_mat(frames, name='Videos/bacteria.mp4', fps=60, cmap='RdPu')\n",
    "del frames"
   ]
  },
  {
   "cell_type": "code",
   "execution_count": 21,
   "id": "be938db1-8c43-404d-b2df-ef23b41e0144",
   "metadata": {
    "tags": []
   },
   "outputs": [
    {
     "name": "stdout",
     "output_type": "stream",
     "text": [
      "\n",
      "kernel = \n",
      "[[-0.89999998  0.94       -0.89999998]\n",
      " [ 0.94        0.          0.94      ]\n",
      " [-0.89999998  0.94       -0.89999998]]\n",
      "\n",
      "\n",
      "activation_function = lambda x: np.sin(np.abs(x/2))\n",
      "\n",
      "\n"
     ]
    }
   ],
   "source": [
    "print(f'\\nkernel = \\n{kernel}\\n')\n",
    "print(f'\\n{getsource(activation_function)}\\n')\n",
    "#Video('Videos/bacteria.mp4', html_attributes='controls', height=500)"
   ]
  },
  {
   "cell_type": "markdown",
   "id": "b1ee2bf3-0a20-438f-b9d6-832ebb8bcb2c",
   "metadata": {},
   "source": [
    "[Bacterias (video)](https://youtu.be/x-yBPAsFn8g?t=142&si=NabVdbii1_WGuT4i)"
   ]
  },
  {
   "cell_type": "markdown",
   "id": "131a6a76-5936-491e-b3a6-c89f84889682",
   "metadata": {},
   "source": [
    "### Mitosis"
   ]
  },
  {
   "cell_type": "code",
   "execution_count": 22,
   "id": "ef90a371-1db5-4269-842c-e5860954395a",
   "metadata": {
    "tags": []
   },
   "outputs": [
    {
     "name": "stderr",
     "output_type": "stream",
     "text": [
      "Applying convolutions: 100%|███████████████| 5000/5000 [00:34<00:00, 144.81it/s]\n",
      "Creating video: 100%|██████████████████████| 5000/5000 [00:05<00:00, 837.27it/s]\n"
     ]
    }
   ],
   "source": [
    "# Size\n",
    "weight = 640\n",
    "height = 360\n",
    "# Number of iterations\n",
    "N = 5000\n",
    "# Initial conditions\n",
    "init_frame = np.zeros((height, weight))\n",
    "init_frame = np.random.uniform(0,1, size=(height,weight))\n",
    "# Select kernel\n",
    "kernel = get_kernel('Kernels/mitosis.json')\n",
    "# Select activation function\n",
    "activation_function = lambda x: -1/(0.9*np.power(x, 2)+1)+1\n",
    "# Compute the N iterations\n",
    "frames = create_animation(init_frame, kernel, activation_function, N, persistent=False)\n",
    "export_video_cv2(frames, name='Videos/mitosis.mp4', fps=30, skip_frames=True, skip='odd')\n",
    "del frames"
   ]
  },
  {
   "cell_type": "code",
   "execution_count": 23,
   "id": "7c12ce96-2838-4a8b-a3d0-eef6ed1149fa",
   "metadata": {
    "tags": []
   },
   "outputs": [
    {
     "name": "stdout",
     "output_type": "stream",
     "text": [
      "\n",
      "kernel = \n",
      "[[-0.93900001  0.88       -0.93900001]\n",
      " [ 0.88        0.40000001  0.88      ]\n",
      " [-0.93900001  0.88       -0.93900001]]\n",
      "\n",
      "\n",
      "activation_function = lambda x: -1/(0.9*np.power(x, 2)+1)+1\n",
      "\n",
      "\n"
     ]
    }
   ],
   "source": [
    "print(f'\\nkernel = \\n{kernel}\\n')\n",
    "print(f'\\n{getsource(activation_function)}\\n')\n",
    "#Video('Videos/mitosis.mp4', html_attributes='controls', height=500)"
   ]
  },
  {
   "cell_type": "markdown",
   "id": "5fd3d055-d534-4d6d-929b-6b1e1291ca68",
   "metadata": {},
   "source": [
    "[Mitosis (video)](https://youtu.be/x-yBPAsFn8g?t=163&si=ItamYLnMLLLsD6HF)"
   ]
  }
 ],
 "metadata": {
  "kernelspec": {
   "display_name": "Python 3 (ipykernel)",
   "language": "python",
   "name": "python3"
  },
  "language_info": {
   "codemirror_mode": {
    "name": "ipython",
    "version": 3
   },
   "file_extension": ".py",
   "mimetype": "text/x-python",
   "name": "python",
   "nbconvert_exporter": "python",
   "pygments_lexer": "ipython3",
   "version": "3.11.6"
  },
  "toc-autonumbering": false
 },
 "nbformat": 4,
 "nbformat_minor": 5
}
